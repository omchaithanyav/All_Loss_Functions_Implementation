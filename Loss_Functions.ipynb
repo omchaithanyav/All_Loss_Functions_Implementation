{
 "cells": [
  {
   "cell_type": "code",
   "execution_count": 9,
   "metadata": {},
   "outputs": [
    {
     "name": "stdout",
     "output_type": "stream",
     "text": [
      "Requirement already satisfied: tensorflow in /config/.local/lib/python3.8/site-packages (from -r requirements.txt (line 1)) (2.12.0)\n",
      "Requirement already satisfied: numpy in /config/.local/lib/python3.8/site-packages (from -r requirements.txt (line 2)) (1.23.5)\n",
      "Requirement already satisfied: typing-extensions>=3.6.6 in /config/.local/lib/python3.8/site-packages (from tensorflow->-r requirements.txt (line 1)) (4.5.0)\n",
      "Requirement already satisfied: tensorflow-io-gcs-filesystem>=0.23.1; platform_machine != \"arm64\" or platform_system != \"Darwin\" in /config/.local/lib/python3.8/site-packages (from tensorflow->-r requirements.txt (line 1)) (0.31.0)\n",
      "Requirement already satisfied: libclang>=13.0.0 in /config/.local/lib/python3.8/site-packages (from tensorflow->-r requirements.txt (line 1)) (16.0.0)\n",
      "Requirement already satisfied: setuptools in /usr/lib/python3/dist-packages (from tensorflow->-r requirements.txt (line 1)) (45.2.0)\n",
      "Requirement already satisfied: grpcio<2.0,>=1.24.3 in /config/.local/lib/python3.8/site-packages (from tensorflow->-r requirements.txt (line 1)) (1.51.3)\n",
      "Requirement already satisfied: tensorboard<2.13,>=2.12 in /config/.local/lib/python3.8/site-packages (from tensorflow->-r requirements.txt (line 1)) (2.12.0)\n",
      "Requirement already satisfied: protobuf!=4.21.0,!=4.21.1,!=4.21.2,!=4.21.3,!=4.21.4,!=4.21.5,<5.0.0dev,>=3.20.3 in /config/.local/lib/python3.8/site-packages (from tensorflow->-r requirements.txt (line 1)) (4.22.1)\n",
      "Requirement already satisfied: h5py>=2.9.0 in /config/.local/lib/python3.8/site-packages (from tensorflow->-r requirements.txt (line 1)) (3.8.0)\n",
      "Requirement already satisfied: six>=1.12.0 in /config/.local/lib/python3.8/site-packages (from tensorflow->-r requirements.txt (line 1)) (1.16.0)\n",
      "Requirement already satisfied: astunparse>=1.6.0 in /config/.local/lib/python3.8/site-packages (from tensorflow->-r requirements.txt (line 1)) (1.6.3)\n",
      "Requirement already satisfied: wrapt<1.15,>=1.11.0 in /config/.local/lib/python3.8/site-packages (from tensorflow->-r requirements.txt (line 1)) (1.14.1)\n",
      "Requirement already satisfied: flatbuffers>=2.0 in /config/.local/lib/python3.8/site-packages (from tensorflow->-r requirements.txt (line 1)) (23.3.3)\n",
      "Requirement already satisfied: gast<=0.4.0,>=0.2.1 in /config/.local/lib/python3.8/site-packages (from tensorflow->-r requirements.txt (line 1)) (0.4.0)\n",
      "Requirement already satisfied: termcolor>=1.1.0 in /config/.local/lib/python3.8/site-packages (from tensorflow->-r requirements.txt (line 1)) (2.2.0)\n",
      "Requirement already satisfied: google-pasta>=0.1.1 in /config/.local/lib/python3.8/site-packages (from tensorflow->-r requirements.txt (line 1)) (0.2.0)\n",
      "Requirement already satisfied: packaging in /config/.local/lib/python3.8/site-packages (from tensorflow->-r requirements.txt (line 1)) (23.0)\n",
      "Requirement already satisfied: tensorflow-estimator<2.13,>=2.12.0 in /config/.local/lib/python3.8/site-packages (from tensorflow->-r requirements.txt (line 1)) (2.12.0)\n",
      "Requirement already satisfied: opt-einsum>=2.3.2 in /config/.local/lib/python3.8/site-packages (from tensorflow->-r requirements.txt (line 1)) (3.3.0)\n",
      "Requirement already satisfied: keras<2.13,>=2.12.0 in /config/.local/lib/python3.8/site-packages (from tensorflow->-r requirements.txt (line 1)) (2.12.0)\n",
      "Requirement already satisfied: jax>=0.3.15 in /config/.local/lib/python3.8/site-packages (from tensorflow->-r requirements.txt (line 1)) (0.4.6)\n",
      "Requirement already satisfied: absl-py>=1.0.0 in /config/.local/lib/python3.8/site-packages (from tensorflow->-r requirements.txt (line 1)) (1.4.0)\n",
      "Requirement already satisfied: tensorboard-data-server<0.8.0,>=0.7.0 in /config/.local/lib/python3.8/site-packages (from tensorboard<2.13,>=2.12->tensorflow->-r requirements.txt (line 1)) (0.7.0)\n",
      "Requirement already satisfied: google-auth<3,>=1.6.3 in /config/.local/lib/python3.8/site-packages (from tensorboard<2.13,>=2.12->tensorflow->-r requirements.txt (line 1)) (2.16.3)\n",
      "Requirement already satisfied: tensorboard-plugin-wit>=1.6.0 in /config/.local/lib/python3.8/site-packages (from tensorboard<2.13,>=2.12->tensorflow->-r requirements.txt (line 1)) (1.8.1)\n",
      "Requirement already satisfied: werkzeug>=1.0.1 in /config/.local/lib/python3.8/site-packages (from tensorboard<2.13,>=2.12->tensorflow->-r requirements.txt (line 1)) (2.2.3)\n",
      "Requirement already satisfied: wheel>=0.26 in /usr/lib/python3/dist-packages (from tensorboard<2.13,>=2.12->tensorflow->-r requirements.txt (line 1)) (0.34.2)\n",
      "Requirement already satisfied: requests<3,>=2.21.0 in /config/.local/lib/python3.8/site-packages (from tensorboard<2.13,>=2.12->tensorflow->-r requirements.txt (line 1)) (2.28.2)\n",
      "Requirement already satisfied: google-auth-oauthlib<0.5,>=0.4.1 in /config/.local/lib/python3.8/site-packages (from tensorboard<2.13,>=2.12->tensorflow->-r requirements.txt (line 1)) (0.4.6)\n",
      "Requirement already satisfied: markdown>=2.6.8 in /config/.local/lib/python3.8/site-packages (from tensorboard<2.13,>=2.12->tensorflow->-r requirements.txt (line 1)) (3.4.3)\n",
      "Requirement already satisfied: scipy>=1.5 in /config/.local/lib/python3.8/site-packages (from jax>=0.3.15->tensorflow->-r requirements.txt (line 1)) (1.10.1)\n",
      "Requirement already satisfied: cachetools<6.0,>=2.0.0 in /config/.local/lib/python3.8/site-packages (from google-auth<3,>=1.6.3->tensorboard<2.13,>=2.12->tensorflow->-r requirements.txt (line 1)) (5.3.0)\n",
      "Requirement already satisfied: rsa<5,>=3.1.4; python_version >= \"3.6\" in /config/.local/lib/python3.8/site-packages (from google-auth<3,>=1.6.3->tensorboard<2.13,>=2.12->tensorflow->-r requirements.txt (line 1)) (4.9)\n",
      "Requirement already satisfied: pyasn1-modules>=0.2.1 in /config/.local/lib/python3.8/site-packages (from google-auth<3,>=1.6.3->tensorboard<2.13,>=2.12->tensorflow->-r requirements.txt (line 1)) (0.2.8)\n",
      "Requirement already satisfied: MarkupSafe>=2.1.1 in /config/.local/lib/python3.8/site-packages (from werkzeug>=1.0.1->tensorboard<2.13,>=2.12->tensorflow->-r requirements.txt (line 1)) (2.1.2)\n",
      "Requirement already satisfied: idna<4,>=2.5 in /config/.local/lib/python3.8/site-packages (from requests<3,>=2.21.0->tensorboard<2.13,>=2.12->tensorflow->-r requirements.txt (line 1)) (3.4)\n",
      "Requirement already satisfied: charset-normalizer<4,>=2 in /config/.local/lib/python3.8/site-packages (from requests<3,>=2.21.0->tensorboard<2.13,>=2.12->tensorflow->-r requirements.txt (line 1)) (3.1.0)\n",
      "Requirement already satisfied: urllib3<1.27,>=1.21.1 in /config/.local/lib/python3.8/site-packages (from requests<3,>=2.21.0->tensorboard<2.13,>=2.12->tensorflow->-r requirements.txt (line 1)) (1.26.15)\n",
      "Requirement already satisfied: certifi>=2017.4.17 in /config/.local/lib/python3.8/site-packages (from requests<3,>=2.21.0->tensorboard<2.13,>=2.12->tensorflow->-r requirements.txt (line 1)) (2022.12.7)\n",
      "Requirement already satisfied: requests-oauthlib>=0.7.0 in /config/.local/lib/python3.8/site-packages (from google-auth-oauthlib<0.5,>=0.4.1->tensorboard<2.13,>=2.12->tensorflow->-r requirements.txt (line 1)) (1.3.1)\n",
      "Requirement already satisfied: importlib-metadata>=4.4; python_version < \"3.10\" in /config/.local/lib/python3.8/site-packages (from markdown>=2.6.8->tensorboard<2.13,>=2.12->tensorflow->-r requirements.txt (line 1)) (6.1.0)\n",
      "Requirement already satisfied: pyasn1>=0.1.3 in /config/.local/lib/python3.8/site-packages (from rsa<5,>=3.1.4; python_version >= \"3.6\"->google-auth<3,>=1.6.3->tensorboard<2.13,>=2.12->tensorflow->-r requirements.txt (line 1)) (0.4.8)\n",
      "Requirement already satisfied: oauthlib>=3.0.0 in /config/.local/lib/python3.8/site-packages (from requests-oauthlib>=0.7.0->google-auth-oauthlib<0.5,>=0.4.1->tensorboard<2.13,>=2.12->tensorflow->-r requirements.txt (line 1)) (3.2.2)\n",
      "Requirement already satisfied: zipp>=0.5 in /config/.local/lib/python3.8/site-packages (from importlib-metadata>=4.4; python_version < \"3.10\"->markdown>=2.6.8->tensorboard<2.13,>=2.12->tensorflow->-r requirements.txt (line 1)) (3.15.0)\n"
     ]
    }
   ],
   "source": [
    "!pip install -r requirements.txt"
   ]
  },
  {
   "cell_type": "code",
   "execution_count": null,
   "metadata": {},
   "outputs": [],
   "source": [
    "# Mean Squared Error (MSE) Loss\n",
    "# Binary Cross-Entropy Loss\n",
    "# Weighted Binary Cross-Entropy Loss\n",
    "# Categorical Cross-Entropy Loss\n",
    "# Sparse Categorical Cross-Entropy Loss\n",
    "# Dice Loss\n",
    "# KL Divergence Loss\n",
    "# Mean Absolute Error (MAE) / L1 Loss\n",
    "# Huber Loss"
   ]
  },
  {
   "cell_type": "code",
   "execution_count": 8,
   "metadata": {},
   "outputs": [],
   "source": [
    "# Mean Squared Error (MSE) Loss\n",
    "\"\"\"\n",
    "Mean Squared Error (MSE) loss is a commonly used loss function in regression problems, where the goal is to predict a continuous variable.\n",
    "The loss is calculated as the average of the squared differences between the predicted and true values. \n",
    "\n",
    "The formula for MSE loss is:\n",
    "MSE loss = (1/n) * sum((y_pred — y_true)²)\n",
    "\n",
    "Where:\n",
    "\n",
    "n is the number of samples in the dataset\n",
    "y_pred is the predicted value of the target variable\n",
    "y_true is the true value of the target variable\n",
    "\n",
    "The MSE loss is sensitive to outliers and can penalize large errors heavily, \n",
    "which may not be desirable in some cases. In such cases, other loss functions like Mean Absolute Error (MAE) or Huber Loss may be used instead.\n",
    "\"\"\"\n",
    "\n",
    "# Using Numpy\n",
    "import numpy as np \n",
    "\n",
    "def mse_loss_np(y_pred, y_true):\n",
    "    n = len(y_true) # n is numer of samples\n",
    "    mse = np.sum((y_pred - y_true) ** 2) / n # y_pred and y_true are NumPy arrays\n",
    "    return mse\n",
    "\n",
    "# Using Tensorflow\n",
    "import tensorflow as tf\n",
    "\n",
    "def mse_loss_tf(y_pred, y_true):\n",
    "    mse = tf.keras.losses.MeanSquaredError()\n",
    "    mse_loss = mse(y_true, y_pred)\n",
    "    return mse_loss"
   ]
  },
  {
   "cell_type": "code",
   "execution_count": null,
   "metadata": {},
   "outputs": [],
   "source": []
  },
  {
   "cell_type": "code",
   "execution_count": null,
   "metadata": {},
   "outputs": [],
   "source": []
  },
  {
   "cell_type": "code",
   "execution_count": null,
   "metadata": {},
   "outputs": [],
   "source": []
  }
 ],
 "metadata": {
  "kernelspec": {
   "display_name": "Python 3.8.10 64-bit",
   "language": "python",
   "name": "python3"
  },
  "language_info": {
   "codemirror_mode": {
    "name": "ipython",
    "version": 3
   },
   "file_extension": ".py",
   "mimetype": "text/x-python",
   "name": "python",
   "nbconvert_exporter": "python",
   "pygments_lexer": "ipython3",
   "version": "3.8.10"
  },
  "orig_nbformat": 4,
  "vscode": {
   "interpreter": {
    "hash": "e7370f93d1d0cde622a1f8e1c04877d8463912d04d973331ad4851f04de6915a"
   }
  }
 },
 "nbformat": 4,
 "nbformat_minor": 2
}
